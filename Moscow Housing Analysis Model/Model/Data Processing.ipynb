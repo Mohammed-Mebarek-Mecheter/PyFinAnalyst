{
 "cells": [
  {
   "cell_type": "code",
   "execution_count": 51,
   "id": "initial_id",
   "metadata": {
    "collapsed": true,
    "ExecuteTime": {
     "end_time": "2024-02-25T22:58:16.936598Z",
     "start_time": "2024-02-25T22:58:16.867951Z"
    }
   },
   "outputs": [],
   "source": [
    "import pandas as pd\n",
    "from sklearn.model_selection import train_test_split\n",
    "from sklearn.preprocessing import OneHotEncoder\n",
    "from sklearn.ensemble import RandomForestRegressor\n",
    "from sklearn.metrics import mean_squared_error, mean_absolute_error"
   ]
  },
  {
   "cell_type": "code",
   "outputs": [],
   "source": [
    "# Load the clean dataset\n",
    "df = pd.read_csv('../data/moscow_houses.csv')"
   ],
   "metadata": {
    "collapsed": false,
    "ExecuteTime": {
     "end_time": "2024-02-25T22:58:17.236307Z",
     "start_time": "2024-02-25T22:58:16.946671Z"
    }
   },
   "id": "2e66c68fb4373a6a",
   "execution_count": 52
  },
  {
   "cell_type": "code",
   "outputs": [
    {
     "data": {
      "text/plain": "        Price Apartment type Metro station  Minutes to metro         Region  \\\n0   6300000.0      Secondary       Опалиха               6.0  Moscow region   \n1   9000000.0      Secondary       Павшино               2.0  Moscow region   \n2  11090000.0      Secondary      Мякинино              14.0  Moscow region   \n3   8300000.0      Secondary      Строгино               8.0  Moscow region   \n4   6450000.0      Secondary       Опалиха               6.0  Moscow region   \n\n   Number of rooms  Area  Living area  Kitchen area  Floor  Number of floors  \\\n0              1.0  30.6         11.1           8.5   25.0                25   \n1              1.0  49.2         20.0          10.0    6.0                15   \n2              1.0  44.7         16.2          13.1   10.0                25   \n3              1.0  35.1         16.0          11.0   12.0                33   \n4              1.0  37.7         15.2           4.0    5.0                 5   \n\n                  Renovation  \n0                   Cosmetic  \n1  European-style renovation  \n2                   Cosmetic  \n3  European-style renovation  \n4         Without renovation  ",
      "text/html": "<div>\n<style scoped>\n    .dataframe tbody tr th:only-of-type {\n        vertical-align: middle;\n    }\n\n    .dataframe tbody tr th {\n        vertical-align: top;\n    }\n\n    .dataframe thead th {\n        text-align: right;\n    }\n</style>\n<table border=\"1\" class=\"dataframe\">\n  <thead>\n    <tr style=\"text-align: right;\">\n      <th></th>\n      <th>Price</th>\n      <th>Apartment type</th>\n      <th>Metro station</th>\n      <th>Minutes to metro</th>\n      <th>Region</th>\n      <th>Number of rooms</th>\n      <th>Area</th>\n      <th>Living area</th>\n      <th>Kitchen area</th>\n      <th>Floor</th>\n      <th>Number of floors</th>\n      <th>Renovation</th>\n    </tr>\n  </thead>\n  <tbody>\n    <tr>\n      <th>0</th>\n      <td>6300000.0</td>\n      <td>Secondary</td>\n      <td>Опалиха</td>\n      <td>6.0</td>\n      <td>Moscow region</td>\n      <td>1.0</td>\n      <td>30.6</td>\n      <td>11.1</td>\n      <td>8.5</td>\n      <td>25.0</td>\n      <td>25</td>\n      <td>Cosmetic</td>\n    </tr>\n    <tr>\n      <th>1</th>\n      <td>9000000.0</td>\n      <td>Secondary</td>\n      <td>Павшино</td>\n      <td>2.0</td>\n      <td>Moscow region</td>\n      <td>1.0</td>\n      <td>49.2</td>\n      <td>20.0</td>\n      <td>10.0</td>\n      <td>6.0</td>\n      <td>15</td>\n      <td>European-style renovation</td>\n    </tr>\n    <tr>\n      <th>2</th>\n      <td>11090000.0</td>\n      <td>Secondary</td>\n      <td>Мякинино</td>\n      <td>14.0</td>\n      <td>Moscow region</td>\n      <td>1.0</td>\n      <td>44.7</td>\n      <td>16.2</td>\n      <td>13.1</td>\n      <td>10.0</td>\n      <td>25</td>\n      <td>Cosmetic</td>\n    </tr>\n    <tr>\n      <th>3</th>\n      <td>8300000.0</td>\n      <td>Secondary</td>\n      <td>Строгино</td>\n      <td>8.0</td>\n      <td>Moscow region</td>\n      <td>1.0</td>\n      <td>35.1</td>\n      <td>16.0</td>\n      <td>11.0</td>\n      <td>12.0</td>\n      <td>33</td>\n      <td>European-style renovation</td>\n    </tr>\n    <tr>\n      <th>4</th>\n      <td>6450000.0</td>\n      <td>Secondary</td>\n      <td>Опалиха</td>\n      <td>6.0</td>\n      <td>Moscow region</td>\n      <td>1.0</td>\n      <td>37.7</td>\n      <td>15.2</td>\n      <td>4.0</td>\n      <td>5.0</td>\n      <td>5</td>\n      <td>Without renovation</td>\n    </tr>\n  </tbody>\n</table>\n</div>"
     },
     "execution_count": 53,
     "metadata": {},
     "output_type": "execute_result"
    }
   ],
   "source": [
    "df.head()"
   ],
   "metadata": {
    "collapsed": false,
    "ExecuteTime": {
     "end_time": "2024-02-25T22:58:17.321715Z",
     "start_time": "2024-02-25T22:58:17.239905Z"
    }
   },
   "id": "e9c96e0d45e114b5",
   "execution_count": 53
  },
  {
   "cell_type": "code",
   "outputs": [
    {
     "name": "stdout",
     "output_type": "stream",
     "text": [
      "Shape of X_train: (16697, 550)\n",
      "Shape of X_test: (4175, 550)\n",
      "Shape of y_train: (16697,)\n",
      "Shape of y_test: (4175,)\n"
     ]
    }
   ],
   "source": [
    "# Separate features (X) and target variable (y)\n",
    "X = df.drop(columns=['Price'])  # Features\n",
    "y = df['Price'].ravel()  # Target variable\n",
    "\n",
    "# Encode categorical variables using one-hot encoding\n",
    "categorical_cols = ['Apartment type', 'Metro station', 'Region', 'Renovation']\n",
    "X_encoded = pd.get_dummies(X, columns=categorical_cols)\n",
    "\n",
    "# Split the dataset into training and testing sets (80% training, 20% testing)\n",
    "X_train, X_test, y_train, y_test = train_test_split(X_encoded, y, test_size=0.2, random_state=42)\n",
    "\n",
    "# Display the shapes of the training and testing sets\n",
    "print(\"Shape of X_train:\", X_train.shape)\n",
    "print(\"Shape of X_test:\", X_test.shape)\n",
    "print(\"Shape of y_train:\", y_train.shape)\n",
    "print(\"Shape of y_test:\", y_test.shape)"
   ],
   "metadata": {
    "collapsed": false,
    "ExecuteTime": {
     "end_time": "2024-02-25T22:58:17.676738Z",
     "start_time": "2024-02-25T22:58:17.324716Z"
    }
   },
   "id": "6a03431c685b2777",
   "execution_count": 54
  },
  {
   "cell_type": "code",
   "outputs": [],
   "source": [
    "X_train = pd.DataFrame(X_train)\n",
    "X_test = pd.DataFrame(X_test)"
   ],
   "metadata": {
    "collapsed": false,
    "ExecuteTime": {
     "end_time": "2024-02-25T22:58:17.701997Z",
     "start_time": "2024-02-25T22:58:17.686736Z"
    }
   },
   "id": "f77a825eba1553b5",
   "execution_count": 55
  },
  {
   "cell_type": "code",
   "outputs": [
    {
     "ename": "AttributeError",
     "evalue": "'numpy.ndarray' object has no attribute 'to_csv'",
     "output_type": "error",
     "traceback": [
      "\u001B[1;31m---------------------------------------------------------------------------\u001B[0m",
      "\u001B[1;31mAttributeError\u001B[0m                            Traceback (most recent call last)",
      "Cell \u001B[1;32mIn[56], line 3\u001B[0m\n\u001B[0;32m      1\u001B[0m X_train\u001B[38;5;241m.\u001B[39mto_csv(\u001B[38;5;124m'\u001B[39m\u001B[38;5;124mX_train.csv\u001B[39m\u001B[38;5;124m'\u001B[39m, index\u001B[38;5;241m=\u001B[39m\u001B[38;5;28;01mFalse\u001B[39;00m)\n\u001B[0;32m      2\u001B[0m X_test\u001B[38;5;241m.\u001B[39mto_csv(\u001B[38;5;124m'\u001B[39m\u001B[38;5;124mX_test.csv\u001B[39m\u001B[38;5;124m'\u001B[39m, index\u001B[38;5;241m=\u001B[39m\u001B[38;5;28;01mFalse\u001B[39;00m)\n\u001B[1;32m----> 3\u001B[0m y_train\u001B[38;5;241m.\u001B[39mto_csv(\u001B[38;5;124m'\u001B[39m\u001B[38;5;124my_train.csv\u001B[39m\u001B[38;5;124m'\u001B[39m, index\u001B[38;5;241m=\u001B[39m\u001B[38;5;28;01mFalse\u001B[39;00m)\n\u001B[0;32m      4\u001B[0m y_test\u001B[38;5;241m.\u001B[39mto_csv(\u001B[38;5;124m'\u001B[39m\u001B[38;5;124my_test.csv\u001B[39m\u001B[38;5;124m'\u001B[39m, index\u001B[38;5;241m=\u001B[39m\u001B[38;5;28;01mFalse\u001B[39;00m)\n",
      "\u001B[1;31mAttributeError\u001B[0m: 'numpy.ndarray' object has no attribute 'to_csv'"
     ]
    }
   ],
   "source": [
    "X_train.to_csv('X_train.csv', index=False)\n",
    "X_test.to_csv('X_test.csv', index=False)\n",
    "y_train.to_csv('y_train.csv', index=False)\n",
    "y_test.to_csv('y_test.csv', index=False)"
   ],
   "metadata": {
    "collapsed": false,
    "ExecuteTime": {
     "end_time": "2024-02-25T22:58:21.482567Z",
     "start_time": "2024-02-25T22:58:17.706984Z"
    }
   },
   "id": "caff25a5f015e551",
   "execution_count": 56
  }
 ],
 "metadata": {
  "kernelspec": {
   "display_name": "Python 3",
   "language": "python",
   "name": "python3"
  },
  "language_info": {
   "codemirror_mode": {
    "name": "ipython",
    "version": 2
   },
   "file_extension": ".py",
   "mimetype": "text/x-python",
   "name": "python",
   "nbconvert_exporter": "python",
   "pygments_lexer": "ipython2",
   "version": "2.7.6"
  }
 },
 "nbformat": 4,
 "nbformat_minor": 5
}
