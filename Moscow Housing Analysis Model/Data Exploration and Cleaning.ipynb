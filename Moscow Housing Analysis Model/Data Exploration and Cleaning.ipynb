{
 "cells": [
  {
   "cell_type": "code",
   "outputs": [],
   "source": [
    "import pandas as pd\n",
    "import numpy as np\n",
    "import matplotlib.pyplot as plt\n",
    "import seaborn as sns"
   ],
   "metadata": {
    "collapsed": false,
    "ExecuteTime": {
     "end_time": "2024-02-20T22:20:35.141375Z",
     "start_time": "2024-02-20T22:20:35.070833Z"
    }
   },
   "id": "bbab979ef5acfdae",
   "execution_count": 1
  },
  {
   "cell_type": "code",
   "outputs": [],
   "source": [
    "# Load the dataset\n",
    "df = pd.read_csv('data/data.csv')"
   ],
   "metadata": {
    "collapsed": false,
    "ExecuteTime": {
     "end_time": "2024-02-20T22:20:35.942930Z",
     "start_time": "2024-02-20T22:20:35.156379Z"
    }
   },
   "id": "76e774daad91ea48",
   "execution_count": 2
  },
  {
   "cell_type": "code",
   "execution_count": 3,
   "id": "initial_id",
   "metadata": {
    "collapsed": true,
    "ExecuteTime": {
     "end_time": "2024-02-20T22:20:36.298334Z",
     "start_time": "2024-02-20T22:20:35.950935Z"
    }
   },
   "outputs": [
    {
     "data": {
      "text/plain": "        Price Apartment type Metro station  Minutes to metro         Region  \\\n0   6300000.0      Secondary       Опалиха               6.0  Moscow region   \n1   9000000.0      Secondary       Павшино               2.0  Moscow region   \n2  11090000.0      Secondary      Мякинино              14.0  Moscow region   \n3   8300000.0      Secondary      Строгино               8.0  Moscow region   \n4   6450000.0      Secondary       Опалиха               6.0  Moscow region   \n\n   Number of rooms  Area  Living area  Kitchen area  Floor  Number of floors  \\\n0              1.0  30.6         11.1           8.5   25.0                25   \n1              1.0  49.2         20.0          10.0    6.0                15   \n2              1.0  44.7         16.2          13.1   10.0                25   \n3              1.0  35.1         16.0          11.0   12.0                33   \n4              1.0  37.7         15.2           4.0    5.0                 5   \n\n                  Renovation  \n0                   Cosmetic  \n1  European-style renovation  \n2                   Cosmetic  \n3  European-style renovation  \n4         Without renovation  ",
      "text/html": "<div>\n<style scoped>\n    .dataframe tbody tr th:only-of-type {\n        vertical-align: middle;\n    }\n\n    .dataframe tbody tr th {\n        vertical-align: top;\n    }\n\n    .dataframe thead th {\n        text-align: right;\n    }\n</style>\n<table border=\"1\" class=\"dataframe\">\n  <thead>\n    <tr style=\"text-align: right;\">\n      <th></th>\n      <th>Price</th>\n      <th>Apartment type</th>\n      <th>Metro station</th>\n      <th>Minutes to metro</th>\n      <th>Region</th>\n      <th>Number of rooms</th>\n      <th>Area</th>\n      <th>Living area</th>\n      <th>Kitchen area</th>\n      <th>Floor</th>\n      <th>Number of floors</th>\n      <th>Renovation</th>\n    </tr>\n  </thead>\n  <tbody>\n    <tr>\n      <th>0</th>\n      <td>6300000.0</td>\n      <td>Secondary</td>\n      <td>Опалиха</td>\n      <td>6.0</td>\n      <td>Moscow region</td>\n      <td>1.0</td>\n      <td>30.6</td>\n      <td>11.1</td>\n      <td>8.5</td>\n      <td>25.0</td>\n      <td>25</td>\n      <td>Cosmetic</td>\n    </tr>\n    <tr>\n      <th>1</th>\n      <td>9000000.0</td>\n      <td>Secondary</td>\n      <td>Павшино</td>\n      <td>2.0</td>\n      <td>Moscow region</td>\n      <td>1.0</td>\n      <td>49.2</td>\n      <td>20.0</td>\n      <td>10.0</td>\n      <td>6.0</td>\n      <td>15</td>\n      <td>European-style renovation</td>\n    </tr>\n    <tr>\n      <th>2</th>\n      <td>11090000.0</td>\n      <td>Secondary</td>\n      <td>Мякинино</td>\n      <td>14.0</td>\n      <td>Moscow region</td>\n      <td>1.0</td>\n      <td>44.7</td>\n      <td>16.2</td>\n      <td>13.1</td>\n      <td>10.0</td>\n      <td>25</td>\n      <td>Cosmetic</td>\n    </tr>\n    <tr>\n      <th>3</th>\n      <td>8300000.0</td>\n      <td>Secondary</td>\n      <td>Строгино</td>\n      <td>8.0</td>\n      <td>Moscow region</td>\n      <td>1.0</td>\n      <td>35.1</td>\n      <td>16.0</td>\n      <td>11.0</td>\n      <td>12.0</td>\n      <td>33</td>\n      <td>European-style renovation</td>\n    </tr>\n    <tr>\n      <th>4</th>\n      <td>6450000.0</td>\n      <td>Secondary</td>\n      <td>Опалиха</td>\n      <td>6.0</td>\n      <td>Moscow region</td>\n      <td>1.0</td>\n      <td>37.7</td>\n      <td>15.2</td>\n      <td>4.0</td>\n      <td>5.0</td>\n      <td>5</td>\n      <td>Without renovation</td>\n    </tr>\n  </tbody>\n</table>\n</div>"
     },
     "execution_count": 3,
     "metadata": {},
     "output_type": "execute_result"
    }
   ],
   "source": [
    "# Display the first few rows of the dataframe\n",
    "df.head()"
   ]
  },
  {
   "cell_type": "code",
   "outputs": [
    {
     "data": {
      "text/plain": "(22676, 12)"
     },
     "execution_count": 4,
     "metadata": {},
     "output_type": "execute_result"
    }
   ],
   "source": [
    "# Display the shape of the dataframe\n",
    "df.shape"
   ],
   "metadata": {
    "collapsed": false,
    "ExecuteTime": {
     "end_time": "2024-02-20T22:20:36.369061Z",
     "start_time": "2024-02-20T22:20:36.335121Z"
    }
   },
   "id": "f5a732f90ac186ce",
   "execution_count": 4
  },
  {
   "cell_type": "code",
   "outputs": [
    {
     "data": {
      "text/plain": "Index(['Price', 'Apartment type', 'Metro station', 'Minutes to metro',\n       'Region', 'Number of rooms', 'Area', 'Living area', 'Kitchen area',\n       'Floor', 'Number of floors', 'Renovation'],\n      dtype='object')"
     },
     "execution_count": 5,
     "metadata": {},
     "output_type": "execute_result"
    }
   ],
   "source": [
    "# Display the column names of the dataframe\n",
    "df.columns"
   ],
   "metadata": {
    "collapsed": false,
    "ExecuteTime": {
     "end_time": "2024-02-20T22:20:36.433201Z",
     "start_time": "2024-02-20T22:20:36.379057Z"
    }
   },
   "id": "51469547eca42877",
   "execution_count": 5
  },
  {
   "cell_type": "code",
   "outputs": [
    {
     "data": {
      "text/plain": "Price               float64\nApartment type       object\nMetro station        object\nMinutes to metro    float64\nRegion               object\nNumber of rooms     float64\nArea                float64\nLiving area         float64\nKitchen area        float64\nFloor               float64\nNumber of floors      int64\nRenovation           object\ndtype: object"
     },
     "execution_count": 6,
     "metadata": {},
     "output_type": "execute_result"
    }
   ],
   "source": [
    "# Display the data types of the columns\n",
    "df.dtypes"
   ],
   "metadata": {
    "collapsed": false,
    "ExecuteTime": {
     "end_time": "2024-02-20T22:20:36.520336Z",
     "start_time": "2024-02-20T22:20:36.443208Z"
    }
   },
   "id": "b0c35896724bca99",
   "execution_count": 6
  },
  {
   "cell_type": "code",
   "outputs": [
    {
     "data": {
      "text/plain": "              Price  Minutes to metro  Number of rooms          Area  \\\ncount  2.267600e+04      22676.000000     22676.000000  22676.000000   \nmean   3.612132e+07         11.888605         2.043129     71.966827   \nstd    8.282561e+07          6.204457         1.523586     68.368608   \nmin    1.150000e+06          0.000000         0.000000      6.000000   \n25%    7.068116e+06          7.000000         1.000000     37.400000   \n50%    1.134320e+07         11.000000         2.000000     53.300000   \n75%    2.479925e+07         15.000000         3.000000     77.140000   \nmax    2.455020e+09         60.000000        12.000000   1117.000000   \n\n        Living area  Kitchen area         Floor  Number of floors  \ncount  22676.000000  22676.000000  22676.000000      22676.000000  \nmean      38.517953     12.594082      9.190466         16.556095  \nstd       38.124278      7.728074      7.549996          9.779297  \nmin        2.000000      1.000000      1.000000          1.000000  \n25%       17.600000      8.600000      4.000000         11.000000  \n50%       28.500000     10.600000      8.000000         16.000000  \n75%       43.200000     14.500000     13.000000         20.000000  \nmax      566.800000    122.000000     92.000000         97.000000  ",
      "text/html": "<div>\n<style scoped>\n    .dataframe tbody tr th:only-of-type {\n        vertical-align: middle;\n    }\n\n    .dataframe tbody tr th {\n        vertical-align: top;\n    }\n\n    .dataframe thead th {\n        text-align: right;\n    }\n</style>\n<table border=\"1\" class=\"dataframe\">\n  <thead>\n    <tr style=\"text-align: right;\">\n      <th></th>\n      <th>Price</th>\n      <th>Minutes to metro</th>\n      <th>Number of rooms</th>\n      <th>Area</th>\n      <th>Living area</th>\n      <th>Kitchen area</th>\n      <th>Floor</th>\n      <th>Number of floors</th>\n    </tr>\n  </thead>\n  <tbody>\n    <tr>\n      <th>count</th>\n      <td>2.267600e+04</td>\n      <td>22676.000000</td>\n      <td>22676.000000</td>\n      <td>22676.000000</td>\n      <td>22676.000000</td>\n      <td>22676.000000</td>\n      <td>22676.000000</td>\n      <td>22676.000000</td>\n    </tr>\n    <tr>\n      <th>mean</th>\n      <td>3.612132e+07</td>\n      <td>11.888605</td>\n      <td>2.043129</td>\n      <td>71.966827</td>\n      <td>38.517953</td>\n      <td>12.594082</td>\n      <td>9.190466</td>\n      <td>16.556095</td>\n    </tr>\n    <tr>\n      <th>std</th>\n      <td>8.282561e+07</td>\n      <td>6.204457</td>\n      <td>1.523586</td>\n      <td>68.368608</td>\n      <td>38.124278</td>\n      <td>7.728074</td>\n      <td>7.549996</td>\n      <td>9.779297</td>\n    </tr>\n    <tr>\n      <th>min</th>\n      <td>1.150000e+06</td>\n      <td>0.000000</td>\n      <td>0.000000</td>\n      <td>6.000000</td>\n      <td>2.000000</td>\n      <td>1.000000</td>\n      <td>1.000000</td>\n      <td>1.000000</td>\n    </tr>\n    <tr>\n      <th>25%</th>\n      <td>7.068116e+06</td>\n      <td>7.000000</td>\n      <td>1.000000</td>\n      <td>37.400000</td>\n      <td>17.600000</td>\n      <td>8.600000</td>\n      <td>4.000000</td>\n      <td>11.000000</td>\n    </tr>\n    <tr>\n      <th>50%</th>\n      <td>1.134320e+07</td>\n      <td>11.000000</td>\n      <td>2.000000</td>\n      <td>53.300000</td>\n      <td>28.500000</td>\n      <td>10.600000</td>\n      <td>8.000000</td>\n      <td>16.000000</td>\n    </tr>\n    <tr>\n      <th>75%</th>\n      <td>2.479925e+07</td>\n      <td>15.000000</td>\n      <td>3.000000</td>\n      <td>77.140000</td>\n      <td>43.200000</td>\n      <td>14.500000</td>\n      <td>13.000000</td>\n      <td>20.000000</td>\n    </tr>\n    <tr>\n      <th>max</th>\n      <td>2.455020e+09</td>\n      <td>60.000000</td>\n      <td>12.000000</td>\n      <td>1117.000000</td>\n      <td>566.800000</td>\n      <td>122.000000</td>\n      <td>92.000000</td>\n      <td>97.000000</td>\n    </tr>\n  </tbody>\n</table>\n</div>"
     },
     "execution_count": 7,
     "metadata": {},
     "output_type": "execute_result"
    }
   ],
   "source": [
    "# Display the summary statistics of the dataframe\n",
    "df.describe()"
   ],
   "metadata": {
    "collapsed": false,
    "ExecuteTime": {
     "end_time": "2024-02-20T22:20:36.804478Z",
     "start_time": "2024-02-20T22:20:36.535329Z"
    }
   },
   "id": "45d95b3a89c1b6c6",
   "execution_count": 7
  },
  {
   "cell_type": "code",
   "outputs": [
    {
     "data": {
      "text/plain": "Price               0\nApartment type      0\nMetro station       0\nMinutes to metro    0\nRegion              0\nNumber of rooms     0\nArea                0\nLiving area         0\nKitchen area        0\nFloor               0\nNumber of floors    0\nRenovation          0\ndtype: int64"
     },
     "execution_count": 8,
     "metadata": {},
     "output_type": "execute_result"
    }
   ],
   "source": [
    "# Display the number of missing values in each column\n",
    "df.isna().sum()"
   ],
   "metadata": {
    "collapsed": false,
    "ExecuteTime": {
     "end_time": "2024-02-20T22:20:37.003511Z",
     "start_time": "2024-02-20T22:20:36.833461Z"
    }
   },
   "id": "b29a341783ea2eec",
   "execution_count": 8
  },
  {
   "cell_type": "code",
   "outputs": [
    {
     "data": {
      "text/plain": "Price               9979\nApartment type         2\nMetro station        547\nMinutes to metro      56\nRegion                 2\nNumber of rooms       12\nArea                3017\nLiving area         1302\nKitchen area         481\nFloor                 72\nNumber of floors      83\nRenovation             4\ndtype: int64"
     },
     "execution_count": 9,
     "metadata": {},
     "output_type": "execute_result"
    }
   ],
   "source": [
    "# Display the number of unique values in each column\n",
    "df.nunique()"
   ],
   "metadata": {
    "collapsed": false,
    "ExecuteTime": {
     "end_time": "2024-02-20T22:20:37.186560Z",
     "start_time": "2024-02-20T22:20:37.041957Z"
    }
   },
   "id": "b0d1553acf9590cc",
   "execution_count": 9
  },
  {
   "cell_type": "code",
   "outputs": [
    {
     "data": {
      "text/plain": "<Figure size 1000x600 with 1 Axes>",
      "image/png": "[encoded data removed]"
     },
     "metadata": {},
     "output_type": "display_data"
    }
   ],
   "source": [
    "from scipy import stats\n",
    "\n",
    "# Filter DataFrame to only numeric columns\n",
    "numeric_cols = df.select_dtypes(include=['float64', 'int64'])\n",
    "\n",
    "# Calculate quantiles \n",
    "Q1 = numeric_cols.quantile(0.25)\n",
    "Q3 = numeric_cols.quantile(0.75)\n",
    "\n",
    "# Calculate IQR\n",
    "IQR = Q3 - Q1\n",
    "\n",
    "# Detect outliers \n",
    "outliers = ((numeric_cols < (Q1 - 1.5 * IQR)) |\n",
    "            (numeric_cols > (Q3 + 1.5 * IQR)))\n",
    "\n",
    "# Filter outliers\n",
    "cleaned_df = df[~outliers]\n",
    "\n",
    "# Calculate z-scores  \n",
    "z_scores = stats.zscore(numeric_cols)\n",
    "\n",
    "# Define threshold \n",
    "threshold = 3\n",
    "\n",
    "# Filter outliers by z-score\n",
    "outlier_indices = (np.abs(z_scores) > threshold).any(axis=1)\n",
    "cleaned_df = df[~outlier_indices]\n",
    "\n",
    "# Box plot for visualization\n",
    "plt.figure(figsize=(10, 6))\n",
    "sns.boxplot(data=numeric_cols, orient='h')\n",
    "plt.title('Box plot for outlier detection')\n",
    "plt.xlabel('Values')\n",
    "plt.grid(True)\n",
    "plt.show()"
   ],
   "metadata": {
    "collapsed": false,
    "ExecuteTime": {
     "end_time": "2024-02-20T22:27:24.820825Z",
     "start_time": "2024-02-20T22:27:19.832611Z"
    }
   },
   "id": "d0a360a48748a1b2",
   "execution_count": 11
  },
  {
   "cell_type": "code",
   "outputs": [],
   "source": [
    "# Save cleaned DataFrame to new CSV file\n",
    "cleaned_csv_file = 'moscow_houses.csv'\n",
    "cleaned_df.to_csv(cleaned_csv_file, index=False)"
   ],
   "metadata": {
    "collapsed": false,
    "ExecuteTime": {
     "end_time": "2024-02-20T22:33:01.736219Z",
     "start_time": "2024-02-20T22:32:58.119991Z"
    }
   },
   "id": "e668ee9eef556195",
   "execution_count": 13
  }
 ],
 "metadata": {
  "kernelspec": {
   "display_name": "Python 3",
   "language": "python",
   "name": "python3"
  },
  "language_info": {
   "codemirror_mode": {
    "name": "ipython",
    "version": 2
   },
   "file_extension": ".py",
   "mimetype": "text/x-python",
   "name": "python",
   "nbconvert_exporter": "python",
   "pygments_lexer": "ipython2",
   "version": "2.7.6"
  }
 },
 "nbformat": 4,
 "nbformat_minor": 5
}
